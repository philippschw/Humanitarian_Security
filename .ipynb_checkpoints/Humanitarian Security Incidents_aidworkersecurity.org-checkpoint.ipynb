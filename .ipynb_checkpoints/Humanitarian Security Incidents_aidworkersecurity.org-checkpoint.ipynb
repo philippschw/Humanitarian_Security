{
 "cells": [
  {
   "cell_type": "markdown",
   "metadata": {
    "slideshow": {
     "slide_type": "slide"
    }
   },
   "source": [
    "Author: \n",
    "**Philipp Schwarz** <br>\n",
    "Quantitative Modeler and Data Scientist<br>\n",
    "Policy Analysis, Delft University of Technology<br>\n",
    "\n",
    "<table id=\"btable\" width='200' cellspacing='0' cellpadding='0' border-spacing='0' style=\"width:200px;margin:0;padding:0;\">\n",
    "  <tr>\n",
    "    <td>\n",
    "      <a href=\"https://de.linkedin.com/in/philippschwarztudelft\" target=\"_blank\" title=\"ProfilePic\" style=\"border:none;text-decoration:none;\">\n",
    "        <img src=\"https://pbs.twimg.com/profile_images/776406575804186624/bDcqGK7W_400x400.jpg\" alt=\"Profile_Image\" style=\"border:none;width:80px;height:80px;\">\n",
    "      </a>\n",
    "    </td>\n",
    "\n",
    "    <td>\n",
    "            <a href=\"https://twitter.com/philippschw_\" target=\"_blank\" title=\"Twitter\" style=\"text-decoration:none;\">\n",
    "              <img src=\"https://www.webceo.com/blog/wp-content/uploads/2015/11/twitter.jpg\" alt=\"Profile_Image\" style=\"border:none;width:30px;height:30px;\"></a>\n",
    "    </td>\n",
    "\n",
    "\n",
    "    \n",
    "  </tr>\n",
    "</table>"
   ]
  },
  {
   "cell_type": "markdown",
   "metadata": {
    "slideshow": {
     "slide_type": "-"
    }
   },
   "source": [
    "## Humanitarian Security Incidents\n",
    "#### - Analysis across different dimensions: Spatial, temporal and type of attack- "
   ]
  },
  {
   "cell_type": "markdown",
   "metadata": {
    "slideshow": {
     "slide_type": "subslide"
    }
   },
   "source": [
    "Raw data pulled from: \n",
    "\n",
    "* https://aidworkersecurity.org/incidents\n",
    "* Incidents are derived from The Aid Worker Security Database (AWSD). \n",
    "* Database records major incidents of violence against aid workers\n",
    "* Incident reports from 1997 through the present\n",
    "* Last updated: August 16, 2016, Data verified up to: December 31, 2015"
   ]
  },
  {
   "cell_type": "code",
   "execution_count": 1,
   "metadata": {
    "collapsed": false,
    "slideshow": {
     "slide_type": "skip"
    }
   },
   "outputs": [],
   "source": [
    "# --- Imports ---\n",
    "import pandas as pd\n",
    "import numpy as np\n",
    "import matplotlib as mpl\n",
    "import matplotlib.pyplot as plt \n",
    "import seaborn as sns\n",
    "sns.set_style(\"whitegrid\")\n",
    "import warnings\n",
    "warnings.filterwarnings('ignore')\n",
    "%matplotlib inline"
   ]
  },
  {
   "cell_type": "markdown",
   "metadata": {
    "slideshow": {
     "slide_type": "skip"
    }
   },
   "source": [
    "Pull data in and add abbreviation"
   ]
  },
  {
   "cell_type": "code",
   "execution_count": 2,
   "metadata": {
    "collapsed": false,
    "slideshow": {
     "slide_type": "skip"
    }
   },
   "outputs": [],
   "source": [
    "rawdatapath = 'raw_data/aidworkersecurity/'\n",
    "dic_organization = pd.read_excel(rawdatapath+\"Abbreviation.xlsx\", sheetname=\"Key for organisation type\", header=None )\n",
    "dic_means_attack = pd.read_excel(rawdatapath+\"Abbreviation.xlsx\", sheetname=\"Key for means of attack\", header=None )\n",
    "dic_context_attack = pd.read_excel(rawdatapath+\"Abbreviation.xlsx\", sheetname=\"Key for attack context\", header=None )\n",
    "dic_location  = pd.read_excel(rawdatapath+\"Abbreviation.xlsx\", sheetname=\"Key for location\", header=None )"
   ]
  },
  {
   "cell_type": "code",
   "execution_count": 3,
   "metadata": {
    "collapsed": false,
    "slideshow": {
     "slide_type": "skip"
    }
   },
   "outputs": [],
   "source": [
    "dic_organization = dict(zip(dic_organization[0],dic_organization[1]))\n",
    "dic_means_attack = dict(zip(dic_means_attack[0],dic_means_attack[1]))\n",
    "dic_context_attack = dict(zip(dic_context_attack[0],dic_context_attack[1]))\n",
    "dic_location = dict(zip(dic_location[0],dic_location[1]))"
   ]
  },
  {
   "cell_type": "code",
   "execution_count": 4,
   "metadata": {
    "collapsed": false,
    "slideshow": {
     "slide_type": "slide"
    }
   },
   "outputs": [],
   "source": [
    "d_crime=pd.read_csv(rawdatapath+'security_incidents2016-10-03.csv')"
   ]
  },
  {
   "cell_type": "code",
   "execution_count": 6,
   "metadata": {
    "collapsed": true
   },
   "outputs": [],
   "source": [
    "from zipfile import ZipFile\n",
    "import os\n",
    "\n",
    "def get_shape_file(filename):\n",
    "\n",
    "#     # download file\n",
    "#     zipped = filename + '.zip'\n",
    "#     urlretrieve('https://data.cityofnewyork.us/api/geospatial/tqmj-j8zm?method=export&format=Shapefile', zipped)\n",
    "#     zipped = os.getcwd() + '/' + zipped\n",
    "\n",
    "    # unzip file\n",
    "    to_unzip = ZipFile(filename, 'r')\n",
    "    unzipped = os.getcwd() + '/' + filename + '_unzipped'\n",
    "    to_unzip.extractall(unzipped)\n",
    "    to_unzip.close()\n",
    "\n",
    "    # get shape file\n",
    "    for file in os.listdir(unzipped):\n",
    "        if file.endswith(\".shp\"):\n",
    "            shape_file =  unzipped + '/' + file\n",
    "\n",
    "    # return full file path\n",
    "    return shape_file"
   ]
  },
  {
   "cell_type": "code",
   "execution_count": 7,
   "metadata": {
    "collapsed": false
   },
   "outputs": [],
   "source": [
    "import geopandas as gp\n",
    "gdf = gp.GeoDataFrame.from_file(get_shape_file('raw_data/ne_50m_admin_0_countries.zip'))\n",
    "d_crime_geo = d_crime[pd.notnull(d_crime['Longitude'])]\n",
    "\n",
    "d_crime_geo['Latitude'] = d_crime_geo['Latitude'].map(lambda x: x.rstrip(')'))\n",
    "d_crime_geo['Longitude'] = d_crime_geo['Longitude'].map(lambda x: x.rstrip(')'))\n",
    "\n",
    "d_crime_geo['Latitude'] = d_crime_geo['Latitude'].map(lambda x: x.split(\",\")[0])\n",
    "d_crime_geo['Longitude'] = d_crime_geo['Longitude'].map(lambda x: x.split(\",\")[0])\n",
    "\n",
    "d_crime_geo['Longitude'] = d_crime_geo['Longitude'].astype(float)\n",
    "d_crime_geo['Latitude'] = d_crime_geo['Latitude'].astype(float)\n",
    "\n",
    " "
   ]
  },
  {
   "cell_type": "code",
   "execution_count": 18,
   "metadata": {
    "collapsed": false
   },
   "outputs": [],
   "source": [
    "# Create Shapely point from long and lat\n",
    "import shapely\n",
    "create_point = lambda x: shapely.geometry.Point(x['Longitude'], x['Latitude'])\n",
    "d_crime_geo['geometry'] = d_crime_geo.apply(create_point, axis=1)\n",
    "\n",
    "gdf_d_crime =  gp.GeoDataFrame(d_crime_geo, crs=gdf.crs)"
   ]
  },
  {
   "cell_type": "code",
   "execution_count": 13,
   "metadata": {
    "collapsed": false
   },
   "outputs": [],
   "source": [
    "# Perform spatial join\n",
    "from geopandas.tools import sjoin\n",
    "joined_gdf = sjoin(gdf_d_crime, gdf, how=\"inner\", op='intersects')"
   ]
  },
  {
   "cell_type": "code",
   "execution_count": 14,
   "metadata": {
    "collapsed": false
   },
   "outputs": [
    {
     "name": "stdout",
     "output_type": "stream",
     "text": [
      "(1962, 100)\n",
      "Index([             u'Incident ID',                     u'Year',\n",
      "                          u'Month',                      u'Day',\n",
      "                        u'Country',                   u'Region',\n",
      "                       u'District',                     u'City',\n",
      "                             u'UN',                     u'INGO',\n",
      "                      u'LNGO/NRCS',                     u'ICRC',\n",
      "                           u'IFRC',                    u'Other',\n",
      "               u'Nationals killed',        u'Nationals wounded',\n",
      "            u'Nationals kidnapped',          u'Total nationals',\n",
      "          u'Internationals killed',   u'Internationals wounded',\n",
      "       u'Internationals kidnapped',     u'Total internationals',\n",
      "                   u'Total killed',            u'Total wounded',\n",
      "                u'Total kidnapped',           u'Total affected',\n",
      "                    u'Gender Male',            u'Gender Female',\n",
      "                 u'Gender Unknown',          u'Means of attack',\n",
      "                 u'Attack context',                 u'Location',\n",
      "                       u'Latitude',                u'Longitude',\n",
      "                        u'Details',                 u'geometry',\n",
      "                    u'index_right',                   u'abbrev',\n",
      "                     u'abbrev_len',                  u'adm0_a3',\n",
      "                     u'adm0_a3_is',               u'adm0_a3_un',\n",
      "                     u'adm0_a3_us',               u'adm0_a3_wb',\n",
      "                       u'adm0_dif',                    u'admin',\n",
      "                         u'brk_a3',                 u'brk_diff',\n",
      "                      u'brk_group',                 u'brk_name',\n",
      "                      u'continent',                  u'economy',\n",
      "                     u'featurecla',                  u'fips_10',\n",
      "                      u'formal_en',                u'formal_fr',\n",
      "                     u'gdp_md_est',                 u'gdp_year',\n",
      "                       u'geou_dif',                  u'geounit',\n",
      "                          u'gu_a3',                 u'homepart',\n",
      "                     u'income_grp',                   u'iso_a2',\n",
      "                         u'iso_a3',                   u'iso_n3',\n",
      "                      u'labelrank',               u'lastcensus',\n",
      "                          u'level',                 u'long_len',\n",
      "                     u'mapcolor13',                u'mapcolor7',\n",
      "                      u'mapcolor8',                u'mapcolor9',\n",
      "                           u'name',                 u'name_alt',\n",
      "                       u'name_len',                u'name_long',\n",
      "                      u'name_sort',                u'note_adm0',\n",
      "                       u'note_brk',                  u'pop_est',\n",
      "                       u'pop_year',                   u'postal',\n",
      "                      u'region_un',                u'region_wb',\n",
      "                      u'scalerank',                   u'sov_a3',\n",
      "                     u'sovereignt',                    u'su_a3',\n",
      "                         u'su_dif',                u'subregion',\n",
      "                        u'subunit',                     u'tiny',\n",
      "                           u'type',                    u'un_a3',\n",
      "                          u'wb_a2',                    u'wb_a3',\n",
      "                      u'wikipedia',                   u'woe_id'],\n",
      "      dtype='object')\n"
     ]
    }
   ],
   "source": [
    "print joined_gdf.shape\n",
    "print joined_gdf.columns"
   ]
  },
  {
   "cell_type": "code",
   "execution_count": 15,
   "metadata": {
    "collapsed": false
   },
   "outputs": [],
   "source": [
    "row_ids = joined_gdf[joined_gdf['Country'] != joined_gdf['admin']].index\n",
    "joined_gdf.ix[row_ids].set_index('admin').index.unique()"
   ]
  },
  {
   "cell_type": "code",
   "execution_count": 48,
   "metadata": {
    "collapsed": false
   },
   "outputs": [
    {
     "data": {
      "text/html": [
       "<div>\n",
       "<table border=\"1\" class=\"dataframe\">\n",
       "  <thead>\n",
       "    <tr style=\"text-align: right;\">\n",
       "      <th></th>\n",
       "      <th>Incident ID</th>\n",
       "      <th>Year</th>\n",
       "      <th>Month</th>\n",
       "      <th>Day</th>\n",
       "      <th>Country</th>\n",
       "      <th>Region</th>\n",
       "      <th>District</th>\n",
       "      <th>City</th>\n",
       "      <th>UN</th>\n",
       "      <th>INGO</th>\n",
       "      <th>...</th>\n",
       "      <th>su_dif</th>\n",
       "      <th>subregion</th>\n",
       "      <th>subunit</th>\n",
       "      <th>tiny</th>\n",
       "      <th>type</th>\n",
       "      <th>un_a3</th>\n",
       "      <th>wb_a2</th>\n",
       "      <th>wb_a3</th>\n",
       "      <th>wikipedia</th>\n",
       "      <th>woe_id</th>\n",
       "    </tr>\n",
       "    <tr>\n",
       "      <th>admin</th>\n",
       "      <th></th>\n",
       "      <th></th>\n",
       "      <th></th>\n",
       "      <th></th>\n",
       "      <th></th>\n",
       "      <th></th>\n",
       "      <th></th>\n",
       "      <th></th>\n",
       "      <th></th>\n",
       "      <th></th>\n",
       "      <th></th>\n",
       "      <th></th>\n",
       "      <th></th>\n",
       "      <th></th>\n",
       "      <th></th>\n",
       "      <th></th>\n",
       "      <th></th>\n",
       "      <th></th>\n",
       "      <th></th>\n",
       "      <th></th>\n",
       "      <th></th>\n",
       "    </tr>\n",
       "  </thead>\n",
       "  <tbody>\n",
       "    <tr>\n",
       "      <th>Russia</th>\n",
       "      <td>18</td>\n",
       "      <td>1997</td>\n",
       "      <td>7.0</td>\n",
       "      <td>NaN</td>\n",
       "      <td>Chechnya</td>\n",
       "      <td>NaN</td>\n",
       "      <td>Nazranovsky</td>\n",
       "      <td>Nazran</td>\n",
       "      <td>0</td>\n",
       "      <td>1</td>\n",
       "      <td>...</td>\n",
       "      <td>0.0</td>\n",
       "      <td>Eastern Europe</td>\n",
       "      <td>Russia</td>\n",
       "      <td>-99.0</td>\n",
       "      <td>Sovereign country</td>\n",
       "      <td>643</td>\n",
       "      <td>RU</td>\n",
       "      <td>RUS</td>\n",
       "      <td>-99.0</td>\n",
       "      <td>-99.0</td>\n",
       "    </tr>\n",
       "    <tr>\n",
       "      <th>Russia</th>\n",
       "      <td>17</td>\n",
       "      <td>1997</td>\n",
       "      <td>7.0</td>\n",
       "      <td>NaN</td>\n",
       "      <td>Chechnya</td>\n",
       "      <td>NaN</td>\n",
       "      <td>NaN</td>\n",
       "      <td>NaN</td>\n",
       "      <td>0</td>\n",
       "      <td>2</td>\n",
       "      <td>...</td>\n",
       "      <td>0.0</td>\n",
       "      <td>Eastern Europe</td>\n",
       "      <td>Russia</td>\n",
       "      <td>-99.0</td>\n",
       "      <td>Sovereign country</td>\n",
       "      <td>643</td>\n",
       "      <td>RU</td>\n",
       "      <td>RUS</td>\n",
       "      <td>-99.0</td>\n",
       "      <td>-99.0</td>\n",
       "    </tr>\n",
       "    <tr>\n",
       "      <th>Russia</th>\n",
       "      <td>16</td>\n",
       "      <td>1997</td>\n",
       "      <td>7.0</td>\n",
       "      <td>NaN</td>\n",
       "      <td>Chechnya</td>\n",
       "      <td>NaN</td>\n",
       "      <td>NaN</td>\n",
       "      <td>NaN</td>\n",
       "      <td>0</td>\n",
       "      <td>1</td>\n",
       "      <td>...</td>\n",
       "      <td>0.0</td>\n",
       "      <td>Eastern Europe</td>\n",
       "      <td>Russia</td>\n",
       "      <td>-99.0</td>\n",
       "      <td>Sovereign country</td>\n",
       "      <td>643</td>\n",
       "      <td>RU</td>\n",
       "      <td>RUS</td>\n",
       "      <td>-99.0</td>\n",
       "      <td>-99.0</td>\n",
       "    </tr>\n",
       "    <tr>\n",
       "      <th>Russia</th>\n",
       "      <td>21</td>\n",
       "      <td>1997</td>\n",
       "      <td>8.0</td>\n",
       "      <td>NaN</td>\n",
       "      <td>Chechnya</td>\n",
       "      <td>Dagestan</td>\n",
       "      <td>NaN</td>\n",
       "      <td>NaN</td>\n",
       "      <td>0</td>\n",
       "      <td>4</td>\n",
       "      <td>...</td>\n",
       "      <td>0.0</td>\n",
       "      <td>Eastern Europe</td>\n",
       "      <td>Russia</td>\n",
       "      <td>-99.0</td>\n",
       "      <td>Sovereign country</td>\n",
       "      <td>643</td>\n",
       "      <td>RU</td>\n",
       "      <td>RUS</td>\n",
       "      <td>-99.0</td>\n",
       "      <td>-99.0</td>\n",
       "    </tr>\n",
       "    <tr>\n",
       "      <th>Russia</th>\n",
       "      <td>29</td>\n",
       "      <td>1997</td>\n",
       "      <td>10.0</td>\n",
       "      <td>23.0</td>\n",
       "      <td>Chechnya</td>\n",
       "      <td>NaN</td>\n",
       "      <td>NaN</td>\n",
       "      <td>Grozny</td>\n",
       "      <td>0</td>\n",
       "      <td>2</td>\n",
       "      <td>...</td>\n",
       "      <td>0.0</td>\n",
       "      <td>Eastern Europe</td>\n",
       "      <td>Russia</td>\n",
       "      <td>-99.0</td>\n",
       "      <td>Sovereign country</td>\n",
       "      <td>643</td>\n",
       "      <td>RU</td>\n",
       "      <td>RUS</td>\n",
       "      <td>-99.0</td>\n",
       "      <td>-99.0</td>\n",
       "    </tr>\n",
       "    <tr>\n",
       "      <th>Russia</th>\n",
       "      <td>33</td>\n",
       "      <td>1997</td>\n",
       "      <td>12.0</td>\n",
       "      <td>17.0</td>\n",
       "      <td>Chechnya</td>\n",
       "      <td>NaN</td>\n",
       "      <td>NaN</td>\n",
       "      <td>NaN</td>\n",
       "      <td>0</td>\n",
       "      <td>5</td>\n",
       "      <td>...</td>\n",
       "      <td>0.0</td>\n",
       "      <td>Eastern Europe</td>\n",
       "      <td>Russia</td>\n",
       "      <td>-99.0</td>\n",
       "      <td>Sovereign country</td>\n",
       "      <td>643</td>\n",
       "      <td>RU</td>\n",
       "      <td>RUS</td>\n",
       "      <td>-99.0</td>\n",
       "      <td>-99.0</td>\n",
       "    </tr>\n",
       "    <tr>\n",
       "      <th>Russia</th>\n",
       "      <td>36</td>\n",
       "      <td>1998</td>\n",
       "      <td>1.0</td>\n",
       "      <td>29.0</td>\n",
       "      <td>Chechnya</td>\n",
       "      <td>North Ossetia</td>\n",
       "      <td>NaN</td>\n",
       "      <td>NaN</td>\n",
       "      <td>2</td>\n",
       "      <td>0</td>\n",
       "      <td>...</td>\n",
       "      <td>0.0</td>\n",
       "      <td>Eastern Europe</td>\n",
       "      <td>Russia</td>\n",
       "      <td>-99.0</td>\n",
       "      <td>Sovereign country</td>\n",
       "      <td>643</td>\n",
       "      <td>RU</td>\n",
       "      <td>RUS</td>\n",
       "      <td>-99.0</td>\n",
       "      <td>-99.0</td>\n",
       "    </tr>\n",
       "    <tr>\n",
       "      <th>Russia</th>\n",
       "      <td>75</td>\n",
       "      <td>1999</td>\n",
       "      <td>5.0</td>\n",
       "      <td>15.0</td>\n",
       "      <td>Chechnya</td>\n",
       "      <td>Kabardino-Balkaria</td>\n",
       "      <td>NaN</td>\n",
       "      <td>NaN</td>\n",
       "      <td>0</td>\n",
       "      <td>0</td>\n",
       "      <td>...</td>\n",
       "      <td>0.0</td>\n",
       "      <td>Eastern Europe</td>\n",
       "      <td>Russia</td>\n",
       "      <td>-99.0</td>\n",
       "      <td>Sovereign country</td>\n",
       "      <td>643</td>\n",
       "      <td>RU</td>\n",
       "      <td>RUS</td>\n",
       "      <td>-99.0</td>\n",
       "      <td>-99.0</td>\n",
       "    </tr>\n",
       "    <tr>\n",
       "      <th>Russia</th>\n",
       "      <td>88</td>\n",
       "      <td>1999</td>\n",
       "      <td>10.0</td>\n",
       "      <td>NaN</td>\n",
       "      <td>Chechnya</td>\n",
       "      <td>NaN</td>\n",
       "      <td>NaN</td>\n",
       "      <td>NaN</td>\n",
       "      <td>0</td>\n",
       "      <td>0</td>\n",
       "      <td>...</td>\n",
       "      <td>0.0</td>\n",
       "      <td>Eastern Europe</td>\n",
       "      <td>Russia</td>\n",
       "      <td>-99.0</td>\n",
       "      <td>Sovereign country</td>\n",
       "      <td>643</td>\n",
       "      <td>RU</td>\n",
       "      <td>RUS</td>\n",
       "      <td>-99.0</td>\n",
       "      <td>-99.0</td>\n",
       "    </tr>\n",
       "    <tr>\n",
       "      <th>Russia</th>\n",
       "      <td>137</td>\n",
       "      <td>2001</td>\n",
       "      <td>1.0</td>\n",
       "      <td>9.0</td>\n",
       "      <td>Chechnya</td>\n",
       "      <td>NaN</td>\n",
       "      <td>NaN</td>\n",
       "      <td>NaN</td>\n",
       "      <td>0</td>\n",
       "      <td>2</td>\n",
       "      <td>...</td>\n",
       "      <td>0.0</td>\n",
       "      <td>Eastern Europe</td>\n",
       "      <td>Russia</td>\n",
       "      <td>-99.0</td>\n",
       "      <td>Sovereign country</td>\n",
       "      <td>643</td>\n",
       "      <td>RU</td>\n",
       "      <td>RUS</td>\n",
       "      <td>-99.0</td>\n",
       "      <td>-99.0</td>\n",
       "    </tr>\n",
       "    <tr>\n",
       "      <th>Russia</th>\n",
       "      <td>144</td>\n",
       "      <td>2001</td>\n",
       "      <td>4.0</td>\n",
       "      <td>18.0</td>\n",
       "      <td>Chechnya</td>\n",
       "      <td>NaN</td>\n",
       "      <td>NaN</td>\n",
       "      <td>NaN</td>\n",
       "      <td>0</td>\n",
       "      <td>2</td>\n",
       "      <td>...</td>\n",
       "      <td>0.0</td>\n",
       "      <td>Eastern Europe</td>\n",
       "      <td>Russia</td>\n",
       "      <td>-99.0</td>\n",
       "      <td>Sovereign country</td>\n",
       "      <td>643</td>\n",
       "      <td>RU</td>\n",
       "      <td>RUS</td>\n",
       "      <td>-99.0</td>\n",
       "      <td>-99.0</td>\n",
       "    </tr>\n",
       "    <tr>\n",
       "      <th>Russia</th>\n",
       "      <td>211</td>\n",
       "      <td>2002</td>\n",
       "      <td>NaN</td>\n",
       "      <td>NaN</td>\n",
       "      <td>Chechnya</td>\n",
       "      <td>NaN</td>\n",
       "      <td>NaN</td>\n",
       "      <td>NaN</td>\n",
       "      <td>0</td>\n",
       "      <td>1</td>\n",
       "      <td>...</td>\n",
       "      <td>0.0</td>\n",
       "      <td>Eastern Europe</td>\n",
       "      <td>Russia</td>\n",
       "      <td>-99.0</td>\n",
       "      <td>Sovereign country</td>\n",
       "      <td>643</td>\n",
       "      <td>RU</td>\n",
       "      <td>RUS</td>\n",
       "      <td>-99.0</td>\n",
       "      <td>-99.0</td>\n",
       "    </tr>\n",
       "    <tr>\n",
       "      <th>Russia</th>\n",
       "      <td>210</td>\n",
       "      <td>2002</td>\n",
       "      <td>NaN</td>\n",
       "      <td>NaN</td>\n",
       "      <td>Chechnya</td>\n",
       "      <td>NaN</td>\n",
       "      <td>NaN</td>\n",
       "      <td>NaN</td>\n",
       "      <td>0</td>\n",
       "      <td>1</td>\n",
       "      <td>...</td>\n",
       "      <td>0.0</td>\n",
       "      <td>Eastern Europe</td>\n",
       "      <td>Russia</td>\n",
       "      <td>-99.0</td>\n",
       "      <td>Sovereign country</td>\n",
       "      <td>643</td>\n",
       "      <td>RU</td>\n",
       "      <td>RUS</td>\n",
       "      <td>-99.0</td>\n",
       "      <td>-99.0</td>\n",
       "    </tr>\n",
       "    <tr>\n",
       "      <th>Russia</th>\n",
       "      <td>183</td>\n",
       "      <td>2002</td>\n",
       "      <td>7.0</td>\n",
       "      <td>NaN</td>\n",
       "      <td>Chechnya</td>\n",
       "      <td>NaN</td>\n",
       "      <td>NaN</td>\n",
       "      <td>NaN</td>\n",
       "      <td>0</td>\n",
       "      <td>1</td>\n",
       "      <td>...</td>\n",
       "      <td>0.0</td>\n",
       "      <td>Eastern Europe</td>\n",
       "      <td>Russia</td>\n",
       "      <td>-99.0</td>\n",
       "      <td>Sovereign country</td>\n",
       "      <td>643</td>\n",
       "      <td>RU</td>\n",
       "      <td>RUS</td>\n",
       "      <td>-99.0</td>\n",
       "      <td>-99.0</td>\n",
       "    </tr>\n",
       "    <tr>\n",
       "      <th>Russia</th>\n",
       "      <td>182</td>\n",
       "      <td>2002</td>\n",
       "      <td>7.0</td>\n",
       "      <td>NaN</td>\n",
       "      <td>Chechnya</td>\n",
       "      <td>NaN</td>\n",
       "      <td>NaN</td>\n",
       "      <td>NaN</td>\n",
       "      <td>0</td>\n",
       "      <td>2</td>\n",
       "      <td>...</td>\n",
       "      <td>0.0</td>\n",
       "      <td>Eastern Europe</td>\n",
       "      <td>Russia</td>\n",
       "      <td>-99.0</td>\n",
       "      <td>Sovereign country</td>\n",
       "      <td>643</td>\n",
       "      <td>RU</td>\n",
       "      <td>RUS</td>\n",
       "      <td>-99.0</td>\n",
       "      <td>-99.0</td>\n",
       "    </tr>\n",
       "    <tr>\n",
       "      <th>Russia</th>\n",
       "      <td>185</td>\n",
       "      <td>2002</td>\n",
       "      <td>8.0</td>\n",
       "      <td>NaN</td>\n",
       "      <td>Chechnya</td>\n",
       "      <td>Dagestan</td>\n",
       "      <td>NaN</td>\n",
       "      <td>NaN</td>\n",
       "      <td>0</td>\n",
       "      <td>1</td>\n",
       "      <td>...</td>\n",
       "      <td>0.0</td>\n",
       "      <td>Eastern Europe</td>\n",
       "      <td>Russia</td>\n",
       "      <td>-99.0</td>\n",
       "      <td>Sovereign country</td>\n",
       "      <td>643</td>\n",
       "      <td>RU</td>\n",
       "      <td>RUS</td>\n",
       "      <td>-99.0</td>\n",
       "      <td>-99.0</td>\n",
       "    </tr>\n",
       "    <tr>\n",
       "      <th>Russia</th>\n",
       "      <td>206</td>\n",
       "      <td>2002</td>\n",
       "      <td>11.0</td>\n",
       "      <td>NaN</td>\n",
       "      <td>Chechnya</td>\n",
       "      <td>NaN</td>\n",
       "      <td>Nazranovsky</td>\n",
       "      <td>Nazran</td>\n",
       "      <td>0</td>\n",
       "      <td>1</td>\n",
       "      <td>...</td>\n",
       "      <td>0.0</td>\n",
       "      <td>Eastern Europe</td>\n",
       "      <td>Russia</td>\n",
       "      <td>-99.0</td>\n",
       "      <td>Sovereign country</td>\n",
       "      <td>643</td>\n",
       "      <td>RU</td>\n",
       "      <td>RUS</td>\n",
       "      <td>-99.0</td>\n",
       "      <td>-99.0</td>\n",
       "    </tr>\n",
       "    <tr>\n",
       "      <th>Russia</th>\n",
       "      <td>199</td>\n",
       "      <td>2002</td>\n",
       "      <td>11.0</td>\n",
       "      <td>13.0</td>\n",
       "      <td>Chechnya</td>\n",
       "      <td>NaN</td>\n",
       "      <td>NaN</td>\n",
       "      <td>NaN</td>\n",
       "      <td>0</td>\n",
       "      <td>0</td>\n",
       "      <td>...</td>\n",
       "      <td>0.0</td>\n",
       "      <td>Eastern Europe</td>\n",
       "      <td>Russia</td>\n",
       "      <td>-99.0</td>\n",
       "      <td>Sovereign country</td>\n",
       "      <td>643</td>\n",
       "      <td>RU</td>\n",
       "      <td>RUS</td>\n",
       "      <td>-99.0</td>\n",
       "      <td>-99.0</td>\n",
       "    </tr>\n",
       "    <tr>\n",
       "      <th>Russia</th>\n",
       "      <td>217</td>\n",
       "      <td>2003</td>\n",
       "      <td>2.0</td>\n",
       "      <td>NaN</td>\n",
       "      <td>Chechnya</td>\n",
       "      <td>NaN</td>\n",
       "      <td>NaN</td>\n",
       "      <td>NaN</td>\n",
       "      <td>0</td>\n",
       "      <td>0</td>\n",
       "      <td>...</td>\n",
       "      <td>0.0</td>\n",
       "      <td>Eastern Europe</td>\n",
       "      <td>Russia</td>\n",
       "      <td>-99.0</td>\n",
       "      <td>Sovereign country</td>\n",
       "      <td>643</td>\n",
       "      <td>RU</td>\n",
       "      <td>RUS</td>\n",
       "      <td>-99.0</td>\n",
       "      <td>-99.0</td>\n",
       "    </tr>\n",
       "    <tr>\n",
       "      <th>Russia</th>\n",
       "      <td>235</td>\n",
       "      <td>2003</td>\n",
       "      <td>6.0</td>\n",
       "      <td>NaN</td>\n",
       "      <td>Chechnya</td>\n",
       "      <td>NaN</td>\n",
       "      <td>NaN</td>\n",
       "      <td>NaN</td>\n",
       "      <td>0</td>\n",
       "      <td>1</td>\n",
       "      <td>...</td>\n",
       "      <td>0.0</td>\n",
       "      <td>Eastern Europe</td>\n",
       "      <td>Russia</td>\n",
       "      <td>-99.0</td>\n",
       "      <td>Sovereign country</td>\n",
       "      <td>643</td>\n",
       "      <td>RU</td>\n",
       "      <td>RUS</td>\n",
       "      <td>-99.0</td>\n",
       "      <td>-99.0</td>\n",
       "    </tr>\n",
       "    <tr>\n",
       "      <th>Russia</th>\n",
       "      <td>243</td>\n",
       "      <td>2003</td>\n",
       "      <td>7.0</td>\n",
       "      <td>NaN</td>\n",
       "      <td>Chechnya</td>\n",
       "      <td>NaN</td>\n",
       "      <td>NaN</td>\n",
       "      <td>NaN</td>\n",
       "      <td>0</td>\n",
       "      <td>1</td>\n",
       "      <td>...</td>\n",
       "      <td>0.0</td>\n",
       "      <td>Eastern Europe</td>\n",
       "      <td>Russia</td>\n",
       "      <td>-99.0</td>\n",
       "      <td>Sovereign country</td>\n",
       "      <td>643</td>\n",
       "      <td>RU</td>\n",
       "      <td>RUS</td>\n",
       "      <td>-99.0</td>\n",
       "      <td>-99.0</td>\n",
       "    </tr>\n",
       "    <tr>\n",
       "      <th>Russia</th>\n",
       "      <td>246</td>\n",
       "      <td>2003</td>\n",
       "      <td>8.0</td>\n",
       "      <td>NaN</td>\n",
       "      <td>Chechnya</td>\n",
       "      <td>NaN</td>\n",
       "      <td>NaN</td>\n",
       "      <td>NaN</td>\n",
       "      <td>0</td>\n",
       "      <td>0</td>\n",
       "      <td>...</td>\n",
       "      <td>0.0</td>\n",
       "      <td>Eastern Europe</td>\n",
       "      <td>Russia</td>\n",
       "      <td>-99.0</td>\n",
       "      <td>Sovereign country</td>\n",
       "      <td>643</td>\n",
       "      <td>RU</td>\n",
       "      <td>RUS</td>\n",
       "      <td>-99.0</td>\n",
       "      <td>-99.0</td>\n",
       "    </tr>\n",
       "    <tr>\n",
       "      <th>Russia</th>\n",
       "      <td>309</td>\n",
       "      <td>2004</td>\n",
       "      <td>6.0</td>\n",
       "      <td>NaN</td>\n",
       "      <td>Chechnya</td>\n",
       "      <td>Ossetia</td>\n",
       "      <td>NaN</td>\n",
       "      <td>NaN</td>\n",
       "      <td>0</td>\n",
       "      <td>1</td>\n",
       "      <td>...</td>\n",
       "      <td>0.0</td>\n",
       "      <td>Eastern Europe</td>\n",
       "      <td>Russia</td>\n",
       "      <td>-99.0</td>\n",
       "      <td>Sovereign country</td>\n",
       "      <td>643</td>\n",
       "      <td>RU</td>\n",
       "      <td>RUS</td>\n",
       "      <td>-99.0</td>\n",
       "      <td>-99.0</td>\n",
       "    </tr>\n",
       "    <tr>\n",
       "      <th>Russia</th>\n",
       "      <td>301</td>\n",
       "      <td>2004</td>\n",
       "      <td>6.0</td>\n",
       "      <td>22.0</td>\n",
       "      <td>Chechnya</td>\n",
       "      <td>NaN</td>\n",
       "      <td>Nazranovsky</td>\n",
       "      <td>Nazran</td>\n",
       "      <td>1</td>\n",
       "      <td>0</td>\n",
       "      <td>...</td>\n",
       "      <td>0.0</td>\n",
       "      <td>Eastern Europe</td>\n",
       "      <td>Russia</td>\n",
       "      <td>-99.0</td>\n",
       "      <td>Sovereign country</td>\n",
       "      <td>643</td>\n",
       "      <td>RU</td>\n",
       "      <td>RUS</td>\n",
       "      <td>-99.0</td>\n",
       "      <td>-99.0</td>\n",
       "    </tr>\n",
       "    <tr>\n",
       "      <th>Russia</th>\n",
       "      <td>363</td>\n",
       "      <td>2005</td>\n",
       "      <td>4.0</td>\n",
       "      <td>NaN</td>\n",
       "      <td>Chechnya</td>\n",
       "      <td>NaN</td>\n",
       "      <td>NaN</td>\n",
       "      <td>NaN</td>\n",
       "      <td>0</td>\n",
       "      <td>0</td>\n",
       "      <td>...</td>\n",
       "      <td>0.0</td>\n",
       "      <td>Eastern Europe</td>\n",
       "      <td>Russia</td>\n",
       "      <td>-99.0</td>\n",
       "      <td>Sovereign country</td>\n",
       "      <td>643</td>\n",
       "      <td>RU</td>\n",
       "      <td>RUS</td>\n",
       "      <td>-99.0</td>\n",
       "      <td>-99.0</td>\n",
       "    </tr>\n",
       "    <tr>\n",
       "      <th>Russia</th>\n",
       "      <td>867</td>\n",
       "      <td>2009</td>\n",
       "      <td>8.0</td>\n",
       "      <td>10.0</td>\n",
       "      <td>Chechnya</td>\n",
       "      <td>NaN</td>\n",
       "      <td>NaN</td>\n",
       "      <td>Grozny</td>\n",
       "      <td>0</td>\n",
       "      <td>1</td>\n",
       "      <td>...</td>\n",
       "      <td>0.0</td>\n",
       "      <td>Eastern Europe</td>\n",
       "      <td>Russia</td>\n",
       "      <td>-99.0</td>\n",
       "      <td>Sovereign country</td>\n",
       "      <td>643</td>\n",
       "      <td>RU</td>\n",
       "      <td>RUS</td>\n",
       "      <td>-99.0</td>\n",
       "      <td>-99.0</td>\n",
       "    </tr>\n",
       "  </tbody>\n",
       "</table>\n",
       "<p>26 rows × 99 columns</p>\n",
       "</div>"
      ],
      "text/plain": [
       "        Incident ID  Year  Month   Day   Country              Region  \\\n",
       "admin                                                                  \n",
       "Russia           18  1997    7.0   NaN  Chechnya                 NaN   \n",
       "Russia           17  1997    7.0   NaN  Chechnya                 NaN   \n",
       "Russia           16  1997    7.0   NaN  Chechnya                 NaN   \n",
       "Russia           21  1997    8.0   NaN  Chechnya            Dagestan   \n",
       "Russia           29  1997   10.0  23.0  Chechnya                 NaN   \n",
       "Russia           33  1997   12.0  17.0  Chechnya                 NaN   \n",
       "Russia           36  1998    1.0  29.0  Chechnya       North Ossetia   \n",
       "Russia           75  1999    5.0  15.0  Chechnya  Kabardino-Balkaria   \n",
       "Russia           88  1999   10.0   NaN  Chechnya                 NaN   \n",
       "Russia          137  2001    1.0   9.0  Chechnya                 NaN   \n",
       "Russia          144  2001    4.0  18.0  Chechnya                 NaN   \n",
       "Russia          211  2002    NaN   NaN  Chechnya                 NaN   \n",
       "Russia          210  2002    NaN   NaN  Chechnya                 NaN   \n",
       "Russia          183  2002    7.0   NaN  Chechnya                 NaN   \n",
       "Russia          182  2002    7.0   NaN  Chechnya                 NaN   \n",
       "Russia          185  2002    8.0   NaN  Chechnya            Dagestan   \n",
       "Russia          206  2002   11.0   NaN  Chechnya                 NaN   \n",
       "Russia          199  2002   11.0  13.0  Chechnya                 NaN   \n",
       "Russia          217  2003    2.0   NaN  Chechnya                 NaN   \n",
       "Russia          235  2003    6.0   NaN  Chechnya                 NaN   \n",
       "Russia          243  2003    7.0   NaN  Chechnya                 NaN   \n",
       "Russia          246  2003    8.0   NaN  Chechnya                 NaN   \n",
       "Russia          309  2004    6.0   NaN  Chechnya             Ossetia   \n",
       "Russia          301  2004    6.0  22.0  Chechnya                 NaN   \n",
       "Russia          363  2005    4.0   NaN  Chechnya                 NaN   \n",
       "Russia          867  2009    8.0  10.0  Chechnya                 NaN   \n",
       "\n",
       "           District    City  UN  INGO   ...    su_dif       subregion  \\\n",
       "admin                                   ...                             \n",
       "Russia  Nazranovsky  Nazran   0     1   ...       0.0  Eastern Europe   \n",
       "Russia          NaN     NaN   0     2   ...       0.0  Eastern Europe   \n",
       "Russia          NaN     NaN   0     1   ...       0.0  Eastern Europe   \n",
       "Russia          NaN     NaN   0     4   ...       0.0  Eastern Europe   \n",
       "Russia          NaN  Grozny   0     2   ...       0.0  Eastern Europe   \n",
       "Russia          NaN     NaN   0     5   ...       0.0  Eastern Europe   \n",
       "Russia          NaN     NaN   2     0   ...       0.0  Eastern Europe   \n",
       "Russia          NaN     NaN   0     0   ...       0.0  Eastern Europe   \n",
       "Russia          NaN     NaN   0     0   ...       0.0  Eastern Europe   \n",
       "Russia          NaN     NaN   0     2   ...       0.0  Eastern Europe   \n",
       "Russia          NaN     NaN   0     2   ...       0.0  Eastern Europe   \n",
       "Russia          NaN     NaN   0     1   ...       0.0  Eastern Europe   \n",
       "Russia          NaN     NaN   0     1   ...       0.0  Eastern Europe   \n",
       "Russia          NaN     NaN   0     1   ...       0.0  Eastern Europe   \n",
       "Russia          NaN     NaN   0     2   ...       0.0  Eastern Europe   \n",
       "Russia          NaN     NaN   0     1   ...       0.0  Eastern Europe   \n",
       "Russia  Nazranovsky  Nazran   0     1   ...       0.0  Eastern Europe   \n",
       "Russia          NaN     NaN   0     0   ...       0.0  Eastern Europe   \n",
       "Russia          NaN     NaN   0     0   ...       0.0  Eastern Europe   \n",
       "Russia          NaN     NaN   0     1   ...       0.0  Eastern Europe   \n",
       "Russia          NaN     NaN   0     1   ...       0.0  Eastern Europe   \n",
       "Russia          NaN     NaN   0     0   ...       0.0  Eastern Europe   \n",
       "Russia          NaN     NaN   0     1   ...       0.0  Eastern Europe   \n",
       "Russia  Nazranovsky  Nazran   1     0   ...       0.0  Eastern Europe   \n",
       "Russia          NaN     NaN   0     0   ...       0.0  Eastern Europe   \n",
       "Russia          NaN  Grozny   0     1   ...       0.0  Eastern Europe   \n",
       "\n",
       "        subunit  tiny               type  un_a3  wb_a2  wb_a3  wikipedia  \\\n",
       "admin                                                                      \n",
       "Russia   Russia -99.0  Sovereign country    643     RU    RUS      -99.0   \n",
       "Russia   Russia -99.0  Sovereign country    643     RU    RUS      -99.0   \n",
       "Russia   Russia -99.0  Sovereign country    643     RU    RUS      -99.0   \n",
       "Russia   Russia -99.0  Sovereign country    643     RU    RUS      -99.0   \n",
       "Russia   Russia -99.0  Sovereign country    643     RU    RUS      -99.0   \n",
       "Russia   Russia -99.0  Sovereign country    643     RU    RUS      -99.0   \n",
       "Russia   Russia -99.0  Sovereign country    643     RU    RUS      -99.0   \n",
       "Russia   Russia -99.0  Sovereign country    643     RU    RUS      -99.0   \n",
       "Russia   Russia -99.0  Sovereign country    643     RU    RUS      -99.0   \n",
       "Russia   Russia -99.0  Sovereign country    643     RU    RUS      -99.0   \n",
       "Russia   Russia -99.0  Sovereign country    643     RU    RUS      -99.0   \n",
       "Russia   Russia -99.0  Sovereign country    643     RU    RUS      -99.0   \n",
       "Russia   Russia -99.0  Sovereign country    643     RU    RUS      -99.0   \n",
       "Russia   Russia -99.0  Sovereign country    643     RU    RUS      -99.0   \n",
       "Russia   Russia -99.0  Sovereign country    643     RU    RUS      -99.0   \n",
       "Russia   Russia -99.0  Sovereign country    643     RU    RUS      -99.0   \n",
       "Russia   Russia -99.0  Sovereign country    643     RU    RUS      -99.0   \n",
       "Russia   Russia -99.0  Sovereign country    643     RU    RUS      -99.0   \n",
       "Russia   Russia -99.0  Sovereign country    643     RU    RUS      -99.0   \n",
       "Russia   Russia -99.0  Sovereign country    643     RU    RUS      -99.0   \n",
       "Russia   Russia -99.0  Sovereign country    643     RU    RUS      -99.0   \n",
       "Russia   Russia -99.0  Sovereign country    643     RU    RUS      -99.0   \n",
       "Russia   Russia -99.0  Sovereign country    643     RU    RUS      -99.0   \n",
       "Russia   Russia -99.0  Sovereign country    643     RU    RUS      -99.0   \n",
       "Russia   Russia -99.0  Sovereign country    643     RU    RUS      -99.0   \n",
       "Russia   Russia -99.0  Sovereign country    643     RU    RUS      -99.0   \n",
       "\n",
       "        woe_id  \n",
       "admin           \n",
       "Russia   -99.0  \n",
       "Russia   -99.0  \n",
       "Russia   -99.0  \n",
       "Russia   -99.0  \n",
       "Russia   -99.0  \n",
       "Russia   -99.0  \n",
       "Russia   -99.0  \n",
       "Russia   -99.0  \n",
       "Russia   -99.0  \n",
       "Russia   -99.0  \n",
       "Russia   -99.0  \n",
       "Russia   -99.0  \n",
       "Russia   -99.0  \n",
       "Russia   -99.0  \n",
       "Russia   -99.0  \n",
       "Russia   -99.0  \n",
       "Russia   -99.0  \n",
       "Russia   -99.0  \n",
       "Russia   -99.0  \n",
       "Russia   -99.0  \n",
       "Russia   -99.0  \n",
       "Russia   -99.0  \n",
       "Russia   -99.0  \n",
       "Russia   -99.0  \n",
       "Russia   -99.0  \n",
       "Russia   -99.0  \n",
       "\n",
       "[26 rows x 99 columns]"
      ]
     },
     "execution_count": 48,
     "metadata": {},
     "output_type": "execute_result"
    }
   ],
   "source": [
    "joined_gdf.ix[row_ids].set_index('admin').ix['Russia']"
   ]
  },
  {
   "cell_type": "markdown",
   "metadata": {
    "slideshow": {
     "slide_type": "-"
    }
   },
   "source": [
    "#### Transform individual columns Year, Month, and Day into single datetime and save it"
   ]
  },
  {
   "cell_type": "code",
   "execution_count": 19,
   "metadata": {
    "collapsed": true,
    "slideshow": {
     "slide_type": "skip"
    }
   },
   "outputs": [],
   "source": [
    "import datetime\n",
    "d_crime_datetime = d_crime[d_crime.Day.notnull()]\n",
    "d_crime_datetime[['Year', 'Month', 'Day']] = d_crime_datetime[['Year', 'Month', 'Day']].astype(int)\n",
    "d_crime_datetime['DateTime'] = d_crime_datetime[['Year', 'Month', 'Day']].apply(lambda s : datetime.datetime(*s),axis = 1)\n",
    "print d_crime_datetime['DateTime'].head()\n",
    "d_crime_datetime.to_csv('processed_data/security_incidents2016-10-03_datetime.csv')\n"
   ]
  },
  {
   "cell_type": "markdown",
   "metadata": {
    "slideshow": {
     "slide_type": "slide"
    }
   },
   "source": [
    "#### Lets have a first look at the data base structure"
   ]
  },
  {
   "cell_type": "code",
   "execution_count": 25,
   "metadata": {
    "collapsed": false,
    "slideshow": {
     "slide_type": "-"
    }
   },
   "outputs": [
    {
     "name": "stdout",
     "output_type": "stream",
     "text": [
      "(2088, 35)\n",
      "Index([u'Incident ID', u'Year', u'Month', u'Day', u'Country', u'Region',\n",
      "       u'District', u'City', u'UN', u'INGO', u'LNGO/NRCS', u'ICRC', u'IFRC',\n",
      "       u'Other', u'Nationals killed', u'Nationals wounded',\n",
      "       u'Nationals kidnapped', u'Total nationals', u'Internationals killed',\n",
      "       u'Internationals wounded', u'Internationals kidnapped',\n",
      "       u'Total internationals', u'Total killed', u'Total wounded',\n",
      "       u'Total kidnapped', u'Total affected', u'Gender Male', u'Gender Female',\n",
      "       u'Gender Unknown', u'Means of attack', u'Attack context', u'Location',\n",
      "       u'Latitude', u'Longitude', u'Details'],\n",
      "      dtype='object')\n"
     ]
    },
    {
     "data": {
      "text/html": [
       "<div>\n",
       "<table border=\"1\" class=\"dataframe\">\n",
       "  <thead>\n",
       "    <tr style=\"text-align: right;\">\n",
       "      <th></th>\n",
       "      <th>Incident ID</th>\n",
       "      <th>Year</th>\n",
       "      <th>Month</th>\n",
       "      <th>Day</th>\n",
       "      <th>Country</th>\n",
       "      <th>Region</th>\n",
       "      <th>District</th>\n",
       "      <th>City</th>\n",
       "      <th>UN</th>\n",
       "      <th>INGO</th>\n",
       "      <th>...</th>\n",
       "      <th>Total affected</th>\n",
       "      <th>Gender Male</th>\n",
       "      <th>Gender Female</th>\n",
       "      <th>Gender Unknown</th>\n",
       "      <th>Means of attack</th>\n",
       "      <th>Attack context</th>\n",
       "      <th>Location</th>\n",
       "      <th>Latitude</th>\n",
       "      <th>Longitude</th>\n",
       "      <th>Details</th>\n",
       "    </tr>\n",
       "  </thead>\n",
       "  <tbody>\n",
       "    <tr>\n",
       "      <th>0</th>\n",
       "      <td>35</td>\n",
       "      <td>1997</td>\n",
       "      <td>NaN</td>\n",
       "      <td>NaN</td>\n",
       "      <td>NaN</td>\n",
       "      <td>NaN</td>\n",
       "      <td>NaN</td>\n",
       "      <td>NaN</td>\n",
       "      <td>0</td>\n",
       "      <td>0</td>\n",
       "      <td>...</td>\n",
       "      <td>2</td>\n",
       "      <td>0</td>\n",
       "      <td>0</td>\n",
       "      <td>2</td>\n",
       "      <td>U</td>\n",
       "      <td>U</td>\n",
       "      <td>U</td>\n",
       "      <td>NaN</td>\n",
       "      <td>NaN</td>\n",
       "      <td>1 ICRC international staff wounded and 1 natl ...</td>\n",
       "    </tr>\n",
       "    <tr>\n",
       "      <th>1</th>\n",
       "      <td>2</td>\n",
       "      <td>1997</td>\n",
       "      <td>1.0</td>\n",
       "      <td>NaN</td>\n",
       "      <td>Rwanda</td>\n",
       "      <td>Northern</td>\n",
       "      <td>Musanze</td>\n",
       "      <td>Ruhengeri</td>\n",
       "      <td>0</td>\n",
       "      <td>4</td>\n",
       "      <td>...</td>\n",
       "      <td>4</td>\n",
       "      <td>3</td>\n",
       "      <td>1</td>\n",
       "      <td>0</td>\n",
       "      <td>S</td>\n",
       "      <td>R</td>\n",
       "      <td>OC</td>\n",
       "      <td>-1.49984</td>\n",
       "      <td>29.63497</td>\n",
       "      <td>3 INGO international (Spanish) staff killed, 1...</td>\n",
       "    </tr>\n",
       "  </tbody>\n",
       "</table>\n",
       "<p>2 rows × 35 columns</p>\n",
       "</div>"
      ],
      "text/plain": [
       "   Incident ID  Year  Month  Day Country     Region  District       City  UN  \\\n",
       "0           35  1997    NaN  NaN     NaN        NaN       NaN        NaN   0   \n",
       "1            2  1997    1.0  NaN  Rwanda  Northern   Musanze   Ruhengeri   0   \n",
       "\n",
       "   INGO                        ...                          Total affected  \\\n",
       "0     0                        ...                                       2   \n",
       "1     4                        ...                                       4   \n",
       "\n",
       "   Gender Male  Gender Female  Gender Unknown  Means of attack  \\\n",
       "0            0              0               2                U   \n",
       "1            3              1               0                S   \n",
       "\n",
       "   Attack context  Location  Latitude  Longitude  \\\n",
       "0               U         U       NaN        NaN   \n",
       "1               R        OC  -1.49984   29.63497   \n",
       "\n",
       "                                             Details  \n",
       "0  1 ICRC international staff wounded and 1 natl ...  \n",
       "1  3 INGO international (Spanish) staff killed, 1...  \n",
       "\n",
       "[2 rows x 35 columns]"
      ]
     },
     "execution_count": 25,
     "metadata": {},
     "output_type": "execute_result"
    }
   ],
   "source": [
    "print d_crime.shape\n",
    "print d_crime.columns\n",
    "d_crime.head(2)"
   ]
  },
  {
   "cell_type": "markdown",
   "metadata": {
    "slideshow": {
     "slide_type": "skip"
    }
   },
   "source": [
    "It provides > 2000 records with spatial and temporal information: "
   ]
  },
  {
   "cell_type": "markdown",
   "metadata": {
    "slideshow": {
     "slide_type": "slide"
    }
   },
   "source": [
    "## 1. Initial basic data exploration "
   ]
  },
  {
   "cell_type": "code",
   "execution_count": 26,
   "metadata": {
    "collapsed": false
   },
   "outputs": [
    {
     "name": "stdout",
     "output_type": "stream",
     "text": [
      "109\n",
      "110\n",
      "68\n"
     ]
    }
   ],
   "source": [
    "print d_crime[d_crime.Year == 2015]['Total killed'].sum()\n",
    "print d_crime[d_crime.Year == 2015]['Total wounded'].sum()\n",
    "print d_crime[d_crime.Year == 2015]['Total kidnapped'].sum()"
   ]
  },
  {
   "cell_type": "markdown",
   "metadata": {},
   "source": [
    "#### Conclusion:\n",
    "* In 2015, 287 aid workers were victims of major attacks. 109 killed - 110 wounded - 68 kidnapped"
   ]
  },
  {
   "cell_type": "markdown",
   "metadata": {},
   "source": [
    "#### Trend Analysis"
   ]
  },
  {
   "cell_type": "code",
   "execution_count": 27,
   "metadata": {
    "collapsed": false
   },
   "outputs": [
    {
     "data": {
      "image/png": "[encoded data removed]",
      "text/plain": [
       "<matplotlib.figure.Figure at 0x7fe1c43d2a50>"
      ]
     },
     "metadata": {},
     "output_type": "display_data"
    }
   ],
   "source": [
    "mpl.rcParams['figure.figsize'] = (14.0, 8.0)\n",
    "d_crime[(d_crime.Year > 1995) & (d_crime.Year < 2016)].rename(columns={'Incident ID': \"Incidents\"}).groupby('Year')[['Incidents',\n",
    "                                                        'Total killed']].agg({'Incidents': {'Incidents': 'count'},\n",
    "                                                                              'Total killed': {'Total killed': 'sum'}\n",
    "                                                                             }).plot(kind='line', style='o-', mec='white',\n",
    "                                                                                     ms=20,mew=5.5, linewidth=1.5, \n",
    "                                                                                    )\n",
    "plt.legend(loc='upper left',scatterpoints=1,prop={'size':20});"
   ]
  },
  {
   "cell_type": "code",
   "execution_count": 28,
   "metadata": {
    "collapsed": false
   },
   "outputs": [
    {
     "data": {
      "text/plain": [
       "Incidents      -0.221053\n",
       "Total killed   -0.099174\n",
       "Name: 2015, dtype: float64"
      ]
     },
     "execution_count": 28,
     "metadata": {},
     "output_type": "execute_result"
    }
   ],
   "source": [
    "d_crime[(d_crime.Year > 1995) & (d_crime.Year < 2016)].rename(columns={'Incident ID': \"Incidents\"}).groupby('Year')[['Incidents',\n",
    "                                                        'Total killed']].agg({'Incidents': {'Incidents': 'count'},\n",
    "                                                                              'Total killed': {'Total killed': 'sum'}\n",
    "                                                                             }).pct_change(axis=0).ix[2015]"
   ]
  },
  {
   "cell_type": "markdown",
   "metadata": {},
   "source": [
    "#### Conclusion:\n",
    "* Over the last fifteen years incidents (major attacks on aid workers) have increasinly lead to the death. On the positive side, 2015 was the second consecutive year with significanyly fewer incidents and causalities compared to the year before.\n",
    "Compared to last year the number of incidents decreased by 22 % and causalities dropped by neaerly 10%"
   ]
  },
  {
   "cell_type": "code",
   "execution_count": 49,
   "metadata": {
    "collapsed": false
   },
   "outputs": [],
   "source": [
    "from pprintpp import pprint as pp\n",
    "def plotdat(l, title_text='', sortON=True, plot_type=\"bar\"):\n",
    "    if sortON == True:\n",
    "        l.sort_values(inplace=True)\n",
    "    fig=plt.figure(figsize=(10,5))\n",
    "    plt.yticks(fontsize=8)\n",
    "    \n",
    "    \n",
    "    if plot_type==\"line\":\n",
    "        l.plot(kind=plot_type, fontsize=12,color='k', marker='o', linestyle='dashed')\n",
    "    else:\n",
    "        l.plot(kind=plot_type, fontsize=12,color='k')\n",
    "\n",
    "    \n",
    "    plt.xlabel('')\n",
    "    plt.ylabel('Number of incidents',fontsize=10)\n",
    "    plt.title(title_text, fontsize=20)\n"
   ]
  },
  {
   "cell_type": "code",
   "execution_count": null,
   "metadata": {
    "collapsed": false,
    "slideshow": {
     "slide_type": "slide"
    }
   },
   "outputs": [],
   "source": [
    "data, cat, title_text = d_crime,'Means of attack', 'Number of Incidents by means of attack'\n",
    "l=data.groupby(cat).size()\n",
    "plotdat(l, title_text)\n",
    "plt.show()\n",
    "pp(dict(dic_means_attack.items()))\n",
    " "
   ]
  },
  {
   "cell_type": "code",
   "execution_count": null,
   "metadata": {
    "collapsed": false,
    "slideshow": {
     "slide_type": "slide"
    }
   },
   "outputs": [],
   "source": [
    "data, cat = d_crime,'Attack context'\n",
    "l=data.groupby(cat).size()\n",
    "plotdat(l)\n",
    "plt.show()\n",
    "pp(dict(dic_context_attack.items()))"
   ]
  },
  {
   "cell_type": "code",
   "execution_count": null,
   "metadata": {
    "collapsed": false,
    "slideshow": {
     "slide_type": "slide"
    }
   },
   "outputs": [],
   "source": [
    "data, cat = d_crime,'Location'\n",
    "l=data.groupby(cat).size()\n",
    "plotdat(l)\n",
    "plt.show()\n",
    "pp(dict(dic_location.items()))"
   ]
  },
  {
   "cell_type": "code",
   "execution_count": null,
   "metadata": {
    "collapsed": true,
    "slideshow": {
     "slide_type": "skip"
    }
   },
   "outputs": [],
   "source": [
    "def cluster_2_column(d_crime,per, x, y):\n",
    "    \n",
    "    # Group by crime type and district \n",
    "    hoods_per_type=d_crime.groupby(y)[x].value_counts(sort=True)\n",
    "    t=hoods_per_type.unstack().fillna(0)\n",
    "    \n",
    "    # Sort by hood sum\n",
    "    hood_sum=t.sum(axis=0)\n",
    "    hood_sum.sort_values(inplace=True, ascending=False)\n",
    "    t=t[hood_sum.index]\n",
    "    \n",
    "    # Filter by crime per district\n",
    "    crime_sum=t.sum(axis=1)\n",
    "    crime_sum.sort_values(inplace=True)\n",
    "    \n",
    "    # Large number, so let's slice the data.\n",
    "    p=np.percentile(crime_sum,per)\n",
    "    ix=crime_sum[crime_sum>p]\n",
    "    t=t.loc[ix.index]\n",
    "    return t\n",
    "    \n",
    "# t=cluster_2_column(d_crime,0, )"
   ]
  },
  {
   "cell_type": "code",
   "execution_count": null,
   "metadata": {
    "collapsed": false,
    "slideshow": {
     "slide_type": "skip"
    }
   },
   "outputs": [],
   "source": [
    "t=cluster_2_column(d_crime,0, x='Location', y= 'Means of attack')"
   ]
  },
  {
   "cell_type": "markdown",
   "metadata": {
    "slideshow": {
     "slide_type": "skip"
    }
   },
   "source": [
    "Cluster the non-normalized data across the top percentile reports and each `PdDistrict`."
   ]
  },
  {
   "cell_type": "markdown",
   "metadata": {
    "slideshow": {
     "slide_type": "skip"
    }
   },
   "source": [
    "Normalize verically across `PdDistrict`."
   ]
  },
  {
   "cell_type": "code",
   "execution_count": null,
   "metadata": {
    "collapsed": false,
    "slideshow": {
     "slide_type": "slide"
    }
   },
   "outputs": [],
   "source": [
    "sns.clustermap(t,standard_scale=0);"
   ]
  },
  {
   "cell_type": "code",
   "execution_count": null,
   "metadata": {
    "collapsed": false,
    "slideshow": {
     "slide_type": "slide"
    }
   },
   "outputs": [],
   "source": [
    "t=cluster_2_column(d_crime,0, x='Attack context', y= 'Means of attack')\n",
    "sns.clustermap(t,standard_scale=0);"
   ]
  },
  {
   "cell_type": "markdown",
   "metadata": {
    "slideshow": {
     "slide_type": "slide"
    }
   },
   "source": [
    "#### Conclusions\n",
    "\n",
    "(1) Ambush attack on roads are the most common attack context.\n",
    "\n",
    "(2) The most common form of attack are:\n",
    "\n",
    "* Shooting (small arms / light weapons, e.g. pistols, rifles, machine guns)',\n",
    "* Kidnapping (not killed)',\n",
    "* Bodily assault/beating/stabbing with non-fire weapons or no weapons',\n",
    "* or Unknown"
   ]
  },
  {
   "cell_type": "markdown",
   "metadata": {
    "slideshow": {
     "slide_type": "slide"
    }
   },
   "source": [
    "## 2. Temporal Analysis"
   ]
  },
  {
   "cell_type": "markdown",
   "metadata": {
    "slideshow": {
     "slide_type": "-"
    }
   },
   "source": [
    "Data is verified only up to: December 31, 2015, hence filter out the incidents in 2016 to avoid bias in temporal analysis"
   ]
  },
  {
   "cell_type": "code",
   "execution_count": null,
   "metadata": {
    "collapsed": true,
    "slideshow": {
     "slide_type": "-"
    }
   },
   "outputs": [],
   "source": [
    "d_crime = d_crime[d_crime.Year <= 2015]"
   ]
  },
  {
   "cell_type": "markdown",
   "metadata": {
    "slideshow": {
     "slide_type": "slide"
    }
   },
   "source": [
    "#### General trend analysis"
   ]
  },
  {
   "cell_type": "code",
   "execution_count": null,
   "metadata": {
    "collapsed": false,
    "slideshow": {
     "slide_type": "-"
    }
   },
   "outputs": [],
   "source": [
    "l=d_crime.groupby('Year')['Total killed'].sum()\n",
    "plotdat(l, sortON = False, title_text =\"Total killed aid workers over time\", plot_type='line' )"
   ]
  },
  {
   "cell_type": "code",
   "execution_count": null,
   "metadata": {
    "collapsed": false,
    "scrolled": true,
    "slideshow": {
     "slide_type": "slide"
    }
   },
   "outputs": [],
   "source": [
    "l=d_crime.groupby('Year').size()\n",
    "plotdat(l, sortON = False, title_text =\"Number of Incidents over time\",  plot_type='line')"
   ]
  },
  {
   "cell_type": "code",
   "execution_count": null,
   "metadata": {
    "collapsed": false
   },
   "outputs": [],
   "source": [
    "l=d_crime.groupby('Year')"
   ]
  },
  {
   "cell_type": "code",
   "execution_count": null,
   "metadata": {
    "collapsed": false
   },
   "outputs": [],
   "source": [
    "sns.set_context()\n",
    "for d,c in zip(['Total internationals','Total killed'],['b','r']):\n",
    "    plt.plot(l.index,l[d],'o-',color=c,ms=20,mew=5.5,mec='white',linewidth=1.5,label=d,alpha=0.75)\n",
    "plt.legend(loc='upper left',scatterpoints=1,prop={'size':20})\n",
    "savefigure('Affected_nationals_vs_internations.png')"
   ]
  },
  {
   "cell_type": "code",
   "execution_count": null,
   "metadata": {
    "collapsed": false,
    "slideshow": {
     "slide_type": "skip"
    }
   },
   "outputs": [],
   "source": [
    "l=d_crime.groupby('Year').sum()\n",
    "l.head()"
   ]
  },
  {
   "cell_type": "markdown",
   "metadata": {
    "slideshow": {
     "slide_type": "slide"
    }
   },
   "source": [
    "#### Trend analysis by category: (1) attack context, (2) means of attack, (3) location when attacked"
   ]
  },
  {
   "cell_type": "code",
   "execution_count": null,
   "metadata": {
    "collapsed": true,
    "slideshow": {
     "slide_type": "skip"
    }
   },
   "outputs": [],
   "source": [
    "def savefigure(path):\n",
    "    fig1 = plt.gcf()\n",
    "    plt.show()\n",
    "    plt.draw()\n",
    "    fig1.savefig('results/'+path, dpi=600)"
   ]
  },
  {
   "cell_type": "code",
   "execution_count": null,
   "metadata": {
    "collapsed": false,
    "slideshow": {
     "slide_type": "skip"
    }
   },
   "outputs": [],
   "source": [
    "mpl.rcParams['figure.figsize'] = (10.0, 4.0)"
   ]
  },
  {
   "cell_type": "code",
   "execution_count": null,
   "metadata": {
    "collapsed": false,
    "slideshow": {
     "slide_type": "skip"
    }
   },
   "outputs": [],
   "source": [
    "cat_per_time=d_crime.groupby(['Year', 'Attack context'])['Total affected'].sum()\n",
    "cat_per_time.unstack(level=1).plot(kind='bar', stacked=True,width=1, fontsize=10, colormap='Set2');"
   ]
  },
  {
   "cell_type": "code",
   "execution_count": null,
   "metadata": {
    "collapsed": false,
    "slideshow": {
     "slide_type": "skip"
    }
   },
   "outputs": [],
   "source": [
    "cat_per_time=d_crime.groupby(['Year', 'Means of attack'])['Total affected'].sum()\n",
    "cat_per_time.unstack(level=1).plot(kind='bar', stacked=True,width=1, fontsize=10, colormap='Set1', alpha=.8);"
   ]
  },
  {
   "cell_type": "code",
   "execution_count": null,
   "metadata": {
    "collapsed": false,
    "slideshow": {
     "slide_type": "-"
    }
   },
   "outputs": [],
   "source": [
    "cat_per_time=d_crime.groupby(['Year', 'Location'])['Total affected'].sum()\n",
    "cat_per_time.unstack(level=1).plot(kind='bar', stacked=True,width=1, fontsize=10, colormap='Set1', alpha=1)\n",
    "savefigure('Location_Incident_temporal.png');"
   ]
  },
  {
   "cell_type": "markdown",
   "metadata": {
    "slideshow": {
     "slide_type": "-"
    }
   },
   "source": [
    "* Since 2013 the attacks on humanitarians at their Project site (village, camp, distribution point, hospital, etc.) has skyrocket\n"
   ]
  },
  {
   "cell_type": "markdown",
   "metadata": {
    "slideshow": {
     "slide_type": "slide"
    }
   },
   "source": [
    "#### Exploration who is being affected?"
   ]
  },
  {
   "cell_type": "code",
   "execution_count": null,
   "metadata": {
    "collapsed": false,
    "slideshow": {
     "slide_type": "-"
    }
   },
   "outputs": [],
   "source": [
    "sns.set_context()\n",
    "for d,c in zip(['Total internationals','Total nationals'],['b','r']):\n",
    "    plt.plot(l.index,l[d],'o-',color=c,ms=20,mew=5.5,mec='white',linewidth=1.5,label=d,alpha=0.75)\n",
    "plt.legend(loc='upper left',scatterpoints=1,prop={'size':20})\n",
    "savefigure('Affected_nationals_vs_internations.png')"
   ]
  },
  {
   "cell_type": "markdown",
   "metadata": {
    "slideshow": {
     "slide_type": "-"
    }
   },
   "source": [
    "* Over the last fifteen years the Number of serious incidents has continously increased, the increase of attacks has primarily affected national humanitarian aid workers!\n"
   ]
  },
  {
   "cell_type": "markdown",
   "metadata": {},
   "source": [
    "#### WHO is targeted UN, Women? "
   ]
  },
  {
   "cell_type": "markdown",
   "metadata": {},
   "source": [
    "In addition, he found\n",
    "more fatalities among NGOs (59 percent) than the UN (41 percent) and among local staff\n",
    "(74 percent) than international staff (26 percent). "
   ]
  },
  {
   "cell_type": "markdown",
   "metadata": {},
   "source": [
    "#### Institutional affiliations of victims\n"
   ]
  },
  {
   "cell_type": "code",
   "execution_count": null,
   "metadata": {
    "collapsed": false
   },
   "outputs": [],
   "source": [
    "mpl.rcParams['figure.figsize'] = (14.0, 6.5)\n",
    "\n",
    "d_crime['ICRC/IFRC'] = d_crime['ICRC'] + d_crime['IFRC']\n",
    "\n",
    "fs = d_crime[['UN', 'INGO', 'LNGO/NRCS', 'ICRC/IFRC', 'Other']].sum()\n",
    "\n",
    "from matplotlib import cm\n",
    "cs=cm.coolwarm(np.arange(50)/3.3)\n",
    "_, _, autotexts = plt.pie(fs,labels = fs.index,  autopct='%1.0f%%',pctdistance=0.9,startangle=90, colors=cs)\n",
    "for autotext in autotexts:\n",
    "    autotext.set_fontsize(18)\n",
    "    autotext.set_color('w')\n",
    "plt.axis(\"equal\");"
   ]
  },
  {
   "cell_type": "code",
   "execution_count": null,
   "metadata": {
    "collapsed": false
   },
   "outputs": [],
   "source": [
    "mpl.rcParams['figure.figsize'] = (14.0, 6.5)\n",
    "\n",
    "d_crime['ICRC/IFRC'] = d_crime['ICRC'] + d_crime['IFRC']\n",
    "\n",
    "fs = d_crime[['UN', 'INGO', 'LNGO/NRCS', 'ICRC/IFRC', 'Other', 'Year']].groupby('Year').sum()\n"
   ]
  },
  {
   "cell_type": "markdown",
   "metadata": {},
   "source": [
    "#### Trends in incident rates by institutions"
   ]
  },
  {
   "cell_type": "code",
   "execution_count": null,
   "metadata": {
    "collapsed": false
   },
   "outputs": [],
   "source": [
    "fs.tail(7).plot.bar(width=1.01, fontsize=10);"
   ]
  },
  {
   "cell_type": "markdown",
   "metadata": {},
   "source": [
    "#### Conclusion\n",
    "* Data set does not record affecting local NGOs!! -> The number of loca aid workers maybe largely underestimated\n",
    "\n",
    "* Staff members of INGOs constitute the largest share of the victims of violent incidents in absolute terms, at around 50%. Personnel of UN aid agencies represent the second-largest portion (23%), followed by National Red Cross workers and local NGO at 24%. International (Federation and Committee) Red Cross and Red Crescent Societies contribute 4% and the final 1% is made up of personnel attached to other entities."
   ]
  },
  {
   "cell_type": "markdown",
   "metadata": {
    "slideshow": {
     "slide_type": "slide"
    }
   },
   "source": [
    "#### Exploration on the consequences of critical incident?"
   ]
  },
  {
   "cell_type": "code",
   "execution_count": null,
   "metadata": {
    "collapsed": false,
    "slideshow": {
     "slide_type": "-"
    }
   },
   "outputs": [],
   "source": [
    "for d,c in zip(['Total affected','Total kidnapped', 'Total wounded', 'Total killed'],['k','r', 'g', 'b']):\n",
    "    plt.plot(l.index,l[d],'o-',color=c,ms=6,mew=1,mec='white',linewidth=0.5,label=d,alpha=0.75)\n",
    "plt.legend(loc='upper left',scatterpoints=1,prop={'size':15})\n",
    "savefigure('Incident_Consequence.png')"
   ]
  },
  {
   "cell_type": "markdown",
   "metadata": {
    "slideshow": {
     "slide_type": "subslide"
    }
   },
   "source": [
    "#### Conclusion\n",
    "\n",
    "* There is not seperate trend towards more kidnapping, more deatly incident."
   ]
  },
  {
   "cell_type": "markdown",
   "metadata": {
    "slideshow": {
     "slide_type": "slide"
    }
   },
   "source": [
    "## 3. Spatial Analysis"
   ]
  },
  {
   "cell_type": "code",
   "execution_count": null,
   "metadata": {
    "collapsed": false,
    "slideshow": {
     "slide_type": "-"
    }
   },
   "outputs": [],
   "source": [
    "l = d_crime.groupby('Country').size()\n",
    "l = l[l>10] # More than 10 incidents \n",
    "plotdat(l, title_text='', sortON=True, plot_type=\"bar\")"
   ]
  },
  {
   "cell_type": "code",
   "execution_count": null,
   "metadata": {
    "collapsed": false
   },
   "outputs": [],
   "source": [
    "import powerlaw \n",
    "fit = powerlaw.Fit(l)\n",
    "\n",
    "print fit.xmin\n",
    "print fit.alpha\n",
    "print fit.power_law._pdf_discrete_normalizer\n",
    "print fit.distribution_compare('power_law', 'lognormal')"
   ]
  },
  {
   "cell_type": "code",
   "execution_count": null,
   "metadata": {
    "collapsed": false
   },
   "outputs": [],
   "source": [
    "top5 = l.sort_values(ascending=False).ix[:5].copy()\n",
    "top5=top5.reset_index()\n",
    "frest = pd.DataFrame([[\"all other regions\", l.sum()-top5[0].sum()]],columns=['Country', 0])\n",
    "fs = pd.concat([top5,frest])"
   ]
  },
  {
   "cell_type": "code",
   "execution_count": null,
   "metadata": {
    "collapsed": false
   },
   "outputs": [],
   "source": [
    "from matplotlib import cm\n",
    "cs=cm.coolwarm(np.arange(50)/5.)\n",
    "_, _, autotexts = plt.pie(fs[0], labels = fs['Country'],autopct='%1.1f%%',pctdistance=0.8,startangle=180, colors=cs)\n",
    "for autotext in autotexts:\n",
    "    autotext.set_fontsize(17)\n",
    "    autotext.set_color('w')\n",
    "plt.axis(\"equal\");"
   ]
  },
  {
   "cell_type": "markdown",
   "metadata": {},
   "source": [
    "#### Conclusion: \n",
    "Risks to humanitarian aid workers are power law distributed. A small number of insecure locations (Afghanistan, Sudan, Somalia, Syria and Pakistan) account for most of the incidents."
   ]
  },
  {
   "cell_type": "markdown",
   "metadata": {},
   "source": [
    "#### Types of violence (2015) in the most dangerous regions"
   ]
  },
  {
   "cell_type": "code",
   "execution_count": null,
   "metadata": {
    "collapsed": false
   },
   "outputs": [],
   "source": [
    "\n",
    "state_office = d_crime[(d_crime['Country'].isin(fs['Country'][:5].tolist()))&(d_crime['Year'] == 2015)].groupby(['Country', 'Means of attack']).count()"
   ]
  },
  {
   "cell_type": "code",
   "execution_count": null,
   "metadata": {
    "collapsed": false
   },
   "outputs": [],
   "source": [
    "state = d_crime[(d_crime['Country'].isin(fs['Country'][:5].tolist()))&(d_crime['Year'] == 2015)].groupby(['Country']).count()\n",
    "df = state_office.div(state, level='Country')['Attack context']"
   ]
  },
  {
   "cell_type": "code",
   "execution_count": null,
   "metadata": {
    "collapsed": false
   },
   "outputs": [],
   "source": [
    "ax = df.unstack('Means of attack').plot(kind='barh', stacked=True, colormap='gist_earth')\n",
    "ax.legend(loc=\"upper left\", bbox_to_anchor=(1,1));"
   ]
  },
  {
   "cell_type": "markdown",
   "metadata": {},
   "source": [
    "#### Conclusion\n",
    "* The types of violence directed at aid workers is dependent on the regional contexts. Looking into data from 2015 shows that in Afghanistan kidnapping is the prevalent mean of attack. However, in Sudan and Somalia, in contrast, shootings and (sexual) assualt are the most signifiant type of violence. Incidents caused by explosives and heavy weapons are with more than 50% only the majority of events in Syria. \n",
    "\n"
   ]
  },
  {
   "cell_type": "code",
   "execution_count": null,
   "metadata": {
    "collapsed": false
   },
   "outputs": [],
   "source": [
    "len(d_crime[d_crime['Country']== 'Afghanistan'])"
   ]
  },
  {
   "cell_type": "code",
   "execution_count": null,
   "metadata": {
    "collapsed": false,
    "slideshow": {
     "slide_type": "slide"
    }
   },
   "outputs": [],
   "source": [
    "from IPython.display import HTML\n",
    "HTML('<iframe width=\"100%\" height=\"520\" frameborder=\"0\" src=\"https://philippschw.carto.com/viz/da5caf7f-8ef3-47f2-aba9-8f5b7397a28a/embed_map\" allowfullscreen webkitallowfullscreen mozallowfullscreen oallowfullscreen msallowfullscreen></iframe>')"
   ]
  },
  {
   "cell_type": "markdown",
   "metadata": {},
   "source": [
    "#### NOTE: Data is slightly inconsistent, location does not always match with indicated nation"
   ]
  },
  {
   "cell_type": "code",
   "execution_count": null,
   "metadata": {
    "collapsed": false
   },
   "outputs": [],
   "source": [
    "\n",
    "HTML('<iframe width=\"100%\" height=\"520\" frameborder=\"0\" src=\"https://philippschw.carto.com/viz/3dbcbef9-e81e-4180-a56b-e57729a3d59e/embed_map\" allowfullscreen webkitallowfullscreen mozallowfullscreen oallowfullscreen msallowfullscreen></iframe>')"
   ]
  },
  {
   "cell_type": "code",
   "execution_count": null,
   "metadata": {
    "collapsed": false,
    "scrolled": false,
    "slideshow": {
     "slide_type": "slide"
    }
   },
   "outputs": [],
   "source": [
    "HTML('<iframe width=\"100%\" height=\"520\" frameborder=\"0\" src=\"https://philippschw.carto.com/viz/82b5fcb0-8a89-11e6-8881-0e8c56e2ffdb/embed_map\" allowfullscreen webkitallowfullscreen mozallowfullscreen oallowfullscreen msallowfullscreen></iframe>')"
   ]
  },
  {
   "cell_type": "markdown",
   "metadata": {},
   "source": [
    "####  Challenge to How to measure relative risk\n",
    "* Studies have recognized research gap that number of aid absolute aid workers is a crucial component that is missing (Sheik 2000 and Van Brabant 2000) \n",
    "\n",
    "* Data on number of aid workers in the field is not available\n",
    "\n",
    "* The report 'Providing Aid in Insecure Environments: Trends in Policy and Operations' provides one of the first formal attempt to calculate an incidence rate for violence against aid workers by comparing global incident data against the estimated number of aid workers in the field (Stoddard et al. 2006)"
   ]
  },
  {
   "cell_type": "markdown",
   "metadata": {
    "collapsed": true
   },
   "source": [
    "#### Data on non violent threats to aid workers"
   ]
  },
  {
   "cell_type": "code",
   "execution_count": null,
   "metadata": {
    "collapsed": true
   },
   "outputs": [],
   "source": []
  }
 ],
 "metadata": {
  "celltoolbar": "Slideshow",
  "kernelspec": {
   "display_name": "Python 2",
   "language": "python",
   "name": "python2"
  },
  "language_info": {
   "codemirror_mode": {
    "name": "ipython",
    "version": 2
   },
   "file_extension": ".py",
   "mimetype": "text/x-python",
   "name": "python",
   "nbconvert_exporter": "python",
   "pygments_lexer": "ipython2",
   "version": "2.7.6"
  },
  "widgets": {
   "state": {},
   "version": "1.1.2"
  }
 },
 "nbformat": 4,
 "nbformat_minor": 0
}
